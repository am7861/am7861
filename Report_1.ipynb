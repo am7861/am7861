{
 "cells": [
  {
   "cell_type": "markdown",
   "id": "c40f3dbf",
   "metadata": {},
   "source": [
    "# Lister Report  "
   ]
  },
  {
   "cell_type": "code",
   "execution_count": null,
   "id": "a43585e2",
   "metadata": {},
   "outputs": [],
   "source": [
    "#importing libraries needed to desplay results"
   ]
  },
  {
   "cell_type": "code",
   "execution_count": null,
   "id": "4bfbee03",
   "metadata": {},
   "outputs": [],
   "source": [
    "from requests import HTTPError\n",
    "\n",
    "import cobra\n",
    "import pandas as pd\n",
    "import plotly.express as px\n",
    "import seaborn as sns\n",
    "\n",
    "from Bio.KEGG import REST\n",
    "from matplotlib import rcParams\n",
    "import matplotlib.pyplot as plt\n",
    "plt.style.use('ggplot')\n",
    "\n",
    "# Set default figure size\n",
    "rcParams[\"figure.figsize\"] = 10, 10"
   ]
  },
  {
   "cell_type": "markdown",
   "id": "b4c08a6e",
   "metadata": {},
   "source": [
    "## Wildtype/Control Model\n",
    "\n",
    "Import the `iCardio` model for \"wildtype.\""
   ]
  },
  {
   "cell_type": "code",
   "execution_count": null,
   "id": "78e255be",
   "metadata": {},
   "outputs": [],
   "source": [
    "#Loading in Icardio as the control to allow us to comapare fluxes after changing constraints "
   ]
  },
  {
   "cell_type": "code",
   "execution_count": null,
   "id": "e8633e68",
   "metadata": {},
   "outputs": [],
   "source": [
    "wildtype= cobra.io.read_sbml_model(\"2021-06-11_HeartModel.sbml.xml\")"
   ]
  },
  {
   "cell_type": "code",
   "execution_count": null,
   "id": "81a725f8",
   "metadata": {},
   "outputs": [],
   "source": [
    "#Solving the wildtpe model using optimize function.\n",
    "#This is done using Gurobi Optimizer, a mathematical programming solver. \n",
    "#It maximixes or minimises an objective function by finding the best values across certain constraints."
   ]
  },
  {
   "cell_type": "markdown",
   "id": "cabbae64",
   "metadata": {},
   "source": [
    "Solve the \"wildtype\" model."
   ]
  },
  {
   "cell_type": "code",
   "execution_count": null,
   "id": "6c9f1668",
   "metadata": {},
   "outputs": [],
   "source": [
    "wildtype.optimize()"
   ]
  },
  {
   "cell_type": "code",
   "execution_count": null,
   "id": "1d9cb950",
   "metadata": {},
   "outputs": [],
   "source": [
    "#Inspect glucose transport flux in the solved model."
   ]
  },
  {
   "cell_type": "code",
   "execution_count": null,
   "id": "d7bad5dc",
   "metadata": {},
   "outputs": [],
   "source": [
    "glc_trans_wt = wildtype.reactions.get_by_id(\"RCR40464\")     # glucose transport\n",
    "glc_na_trans_wt = wildtype.reactions.get_by_id(\"RCR41035\")  # glucose transport with sodium"
   ]
  },
  {
   "cell_type": "code",
   "execution_count": null,
   "id": "f5547eb2",
   "metadata": {},
   "outputs": [],
   "source": [
    "glc_trans_wt"
   ]
  },
  {
   "cell_type": "code",
   "execution_count": null,
   "id": "05ba152e",
   "metadata": {},
   "outputs": [],
   "source": [
    "glc_na_trans_wt"
   ]
  },
  {
   "cell_type": "markdown",
   "id": "3cbded2d",
   "metadata": {},
   "source": [
    "Checking fluxes through both glucose transport steps"
   ]
  },
  {
   "cell_type": "code",
   "execution_count": null,
   "id": "6281e1ec",
   "metadata": {},
   "outputs": [],
   "source": [
    "glc_trans_wt.flux"
   ]
  },
  {
   "cell_type": "code",
   "execution_count": null,
   "id": "c682a87a",
   "metadata": {},
   "outputs": [],
   "source": [
    "glc_na_trans_wt.flux"
   ]
  },
  {
   "cell_type": "markdown",
   "id": "d42cb0ce",
   "metadata": {},
   "source": [
    "## Glucose Transport Perturbation\n",
    "\n",
    "Shutting off all glucose import in the perturbed model. \n",
    "First importing the `iCardio` model."
   ]
  },
  {
   "cell_type": "code",
   "execution_count": null,
   "id": "d510b252",
   "metadata": {},
   "outputs": [],
   "source": [
    "perturbed = cobra.io.read_sbml_model(\"2021-06-11_HeartModel.sbml.xml\")"
   ]
  },
  {
   "cell_type": "code",
   "execution_count": null,
   "id": "22e21c98",
   "metadata": {},
   "outputs": [],
   "source": [
    "#Setting the lower and upper bounds for both glucose transport steps to zero."
   ]
  },
  {
   "cell_type": "code",
   "execution_count": null,
   "id": "9c6cad08",
   "metadata": {},
   "outputs": [],
   "source": [
    "glc_trans_pt = perturbed.reactions.get_by_id(\"RCR40464\")     # glucose transport\n",
    "glc_trans_pt.lower_bound, glc_trans_pt.upper_bound = 0, 0\n",
    "\n",
    "glc_na_trans_pt = perturbed.reactions.get_by_id(\"RCR41035\")  # glucose transport with sodium\n",
    "glc_na_trans_pt.lower_bound, glc_na_trans_pt.upper_bound = 0, 0"
   ]
  },
  {
   "cell_type": "code",
   "execution_count": null,
   "id": "f3f76a3f",
   "metadata": {},
   "outputs": [],
   "source": [
    "#solving the perturbed model"
   ]
  },
  {
   "cell_type": "code",
   "execution_count": null,
   "id": "83d70044",
   "metadata": {},
   "outputs": [],
   "source": [
    "perturbed.optimize()"
   ]
  },
  {
   "cell_type": "code",
   "execution_count": null,
   "id": "d21685a6",
   "metadata": {},
   "outputs": [],
   "source": [
    "# Inspecting the glucose transport steps after changing constraints ."
   ]
  },
  {
   "cell_type": "code",
   "execution_count": null,
   "id": "852cf7fb",
   "metadata": {},
   "outputs": [],
   "source": [
    "glc_trans_pt"
   ]
  },
  {
   "cell_type": "code",
   "execution_count": null,
   "id": "5816eb20",
   "metadata": {},
   "outputs": [],
   "source": [
    "glc_na_trans_pt"
   ]
  },
  {
   "cell_type": "markdown",
   "id": "99220e7a",
   "metadata": {},
   "source": [
    "## Plotting flux differences\n",
    "\n",
    "Using a scatterplot to show changes in flux through each step in the model, given the perturbation above. \n",
    "First we generate a dataframe containing the flux for each reaction, in the \"wildtype\" and \"perturbed\" solutions."
   ]
  },
  {
   "cell_type": "code",
   "execution_count": null,
   "id": "e3a7fe09",
   "metadata": {},
   "outputs": [],
   "source": [
    "rxn_names = [_.name for _ in wildtype.reactions]\n",
    "rxn_wt_flux = [_.flux for _ in wildtype.reactions]\n",
    "rxn_pt_flux = [_.flux for _ in perturbed.reactions]\n",
    "\n",
    "fluxes = pd.DataFrame({\"wildtype\": rxn_wt_flux, \"perturbed\": rxn_pt_flux}, index=rxn_names)\n",
    "fluxes"
   ]
  },
  {
   "cell_type": "code",
   "execution_count": null,
   "id": "39d4e1dc",
   "metadata": {},
   "outputs": [],
   "source": [
    "#Using the  package `seaborn` to generate a static image "
   ]
  },
  {
   "cell_type": "code",
   "execution_count": null,
   "id": "539944b4",
   "metadata": {},
   "outputs": [],
   "source": [
    "sns.scatterplot(x=\"wildtype\", y=\"perturbed\", data=fluxes);"
   ]
  },
  {
   "cell_type": "code",
   "execution_count": null,
   "id": "1ae55c67",
   "metadata": {},
   "outputs": [],
   "source": [
    "#create a new column to hold reaction \"state\" after perturbation"
   ]
  },
  {
   "cell_type": "code",
   "execution_count": null,
   "id": "2698782e",
   "metadata": {},
   "outputs": [],
   "source": [
    "fluxes[\"state\"] = \"\"\n",
    "\n",
    "# Assign states to each row in the dataframe\n",
    "def assign_state(row):\n",
    "    \"\"\"Assign a state to a row (reaction)\"\"\"\n",
    "    if row[\"wildtype\"] == 0 and row[\"perturbed\"] != 0:\n",
    "        return \"activated\"\n",
    "    elif row[\"wildtype\"] != 0 and row[\"perturbed\"] == 0:\n",
    "        return \"deactivated\"\n",
    "    elif row[\"wildtype\"] == 0 and row[\"perturbed\"] == 0:\n",
    "        return \"zero flux\"\n",
    "    elif abs(row[\"perturbed\"]/row[\"wildtype\"]) > 1.1:\n",
    "        return \"increased flux\"\n",
    "    elif abs(row[\"perturbed\"]/row[\"wildtype\"]) < 1/1.1:\n",
    "        return \"decreased flux\"    \n",
    "    return \"unchanged\"\n",
    "\n",
    "fluxes[\"state\"] = fluxes.apply(assign_state, axis=1)"
   ]
  },
  {
   "cell_type": "code",
   "execution_count": null,
   "id": "731c2f8a",
   "metadata": {},
   "outputs": [],
   "source": [
    "# creating scatterplot with new column \"state\""
   ]
  },
  {
   "cell_type": "code",
   "execution_count": null,
   "id": "bd19742e",
   "metadata": {},
   "outputs": [],
   "source": [
    "sns.scatterplot(data=fluxes, x=\"wildtype\", y=\"perturbed\", hue=\"state\");"
   ]
  },
  {
   "cell_type": "markdown",
   "id": "3f35ae06",
   "metadata": {},
   "source": [
    "## Interactive Plot\n",
    "\n",
    "`plot.ly` allows us to produce an interactive plot where we can define what happens on mouseover events and get more detail about individual reactions\n",
    "\n",
    "**Move your mouse pointer over some of the data points**"
   ]
  },
  {
   "cell_type": "code",
   "execution_count": null,
   "id": "12aac2a7",
   "metadata": {},
   "outputs": [],
   "source": [
    "fig = px.scatter(fluxes, x=\"wildtype\", y=\"perturbed\", color=\"state\", hover_data=[fluxes.index])\n",
    "fig.show()"
   ]
  },
  {
   "cell_type": "markdown",
   "id": "3c763c0a",
   "metadata": {},
   "source": [
    "Using two data resources : the Chalmers `Human-GEM` model and an interface to the KEGG database, which we'll get to using Biopython. This will allow a useful reaction name to replace the 'RCR' numbers."
   ]
  },
  {
   "cell_type": "markdown",
   "id": "8058b0bc",
   "metadata": {},
   "source": [
    "## Labelling points\n",
    "Obtaining the Chalmers `Human-GEM` model from [the GitHub repo](https://github.com/SysBioChalmers/Human-GEM) and getting the `model/reactions.tsv` file from this repository.\n",
    "KEGG is a computer representation of the biological system, it consists of molecular building blocks of genes and proteins and chemical substances. It is used to understand the functions and utilities of the biological system."
   ]
  },
  {
   "cell_type": "code",
   "execution_count": null,
   "id": "e54825dd",
   "metadata": {},
   "outputs": [],
   "source": [
    "reactions = pd.read_csv(\"reactions.tsv\", sep=\"\\t\")\n",
    "reactions"
   ]
  },
  {
   "cell_type": "markdown",
   "id": "533bfaf6",
   "metadata": {},
   "source": [
    "The `RCR` numbers are in the column `rxnRatconID`, and the KEGG reaction IDs are in `rxnKEGGID`. \n",
    "Now wanting a list of reaction names from the KEGG database.\n",
    "\n",
    "For example, `R00754` maps to information at its [reaction page](https://www.kegg.jp/entry/R00754). \n",
    "We could capture any piece of information from this entry using the Biopython REST interface.\n",
    "This allows for easy access to a range of KEGG datab"
   ]
  },
  {
   "cell_type": "code",
   "execution_count": null,
   "id": "2091ba39",
   "metadata": {},
   "outputs": [],
   "source": [
    "print(REST.kegg_get(\"R00754\").read())"
   ]
  },
  {
   "cell_type": "markdown",
   "id": "effa2a53",
   "metadata": {},
   "source": [
    "But we need some kind of function to parse this information (other functions are possible)."
   ]
  },
  {
   "cell_type": "code",
   "execution_count": null,
   "id": "f22438c4",
   "metadata": {},
   "outputs": [],
   "source": [
    "def parse_rxn_definition(rxn_data):\n",
    "    \"\"\"Return the Definition of a KEGG reaction\"\"\"\n",
    "    for line in [_.strip() for _ in rxn_data]:\n",
    "        if line.startswith(\"DEFINITION\"):\n",
    "            label, info = line.split(\" \", 1)\n",
    "            return info.strip()\n",
    "        \n",
    "parse_rxn_definition(REST.kegg_get(\"R00754\"))"
   ]
  },
  {
   "cell_type": "code",
   "execution_count": null,
   "id": "e0272b72",
   "metadata": {},
   "outputs": [],
   "source": [
    "#Updating the `fluxes` dataframe with the KEGG ID, and the reaction definition."
   ]
  },
  {
   "cell_type": "code",
   "execution_count": null,
   "id": "97952267",
   "metadata": {},
   "outputs": [],
   "source": [
    "fluxes[\"KEGGID\"] = \"\"  # creating a new column to hold KEGG IDs\n",
    "\n",
    "# Assigning KEGG IDs to each row in the dataframe\n",
    "def assign_kegg(row):\n",
    "    \"\"\"Assign KEGG ID to a row (reaction)\"\"\"\n",
    "    match = reactions.loc[reactions[\"rxnRatconID\"] == row.name]\n",
    "    if not len(match):\n",
    "        return \"no_kegg_id\"\n",
    "    keggid = match[\"rxnKEGGID\"].item()\n",
    "    if keggid != \"nan\":\n",
    "        return keggid\n",
    "    return \"no_kegg_id\"\n",
    "\n",
    "fluxes[\"KEGGID\"] = fluxes.apply(assign_kegg, axis=1)\n",
    "fluxes"
   ]
  },
  {
   "cell_type": "markdown",
   "id": "581f9023",
   "metadata": {},
   "source": [
    "Now using KEGG to get the reaction definition for each reaction that has a valid KEGG ID\n",
    "some of the KEGG IDs appear to be out of date and will fail."
   ]
  },
  {
   "cell_type": "code",
   "execution_count": null,
   "id": "fc2eb98a",
   "metadata": {},
   "outputs": [],
   "source": [
    "#Didnt run this, instead, ran the pickle file at the start of 'Report_2' as this code takes time "
   ]
  },
  {
   "cell_type": "code",
   "execution_count": null,
   "id": "0bf84864",
   "metadata": {},
   "outputs": [],
   "source": [
    "fluxes[\"definition\"] = \"\"  # create a new column to hold KEGG reaction definition info\n",
    "\n",
    "# Assign KEGG reaction definitions\n",
    "def assign_definition(row):\n",
    "    \"\"\"Assign KEGG definition info to a row (reaction)\"\"\"\n",
    "    if not str(row[\"KEGGID\"]).startswith(\"R\"):\n",
    "        return \"no_kegg_id\"\n",
    "    else:\n",
    "        tries = 0\n",
    "        while tries < 10:\n",
    "            try:\n",
    "                tries += 1\n",
    "                kegg_data = REST.kegg_get(row[\"KEGGID\"])\n",
    "                return parse_rxn_definition(kegg_data)\n",
    "            except Exception as e:\n",
    "                print(f\"{e} for {row['KEGGID']}\")\n",
    "    \n",
    "    return \"no_kegg_id\"\n",
    "    \n",
    "\n",
    "fluxes[\"definition\"] = fluxes.apply(assign_definition, axis=1)\n",
    "fluxes"
   ]
  },
  {
   "cell_type": "code",
   "execution_count": null,
   "id": "b1c12385",
   "metadata": {},
   "outputs": [],
   "source": []
  },
  {
   "cell_type": "code",
   "execution_count": null,
   "id": "8757b97f",
   "metadata": {},
   "outputs": [],
   "source": []
  },
  {
   "cell_type": "code",
   "execution_count": null,
   "id": "362989cc",
   "metadata": {},
   "outputs": [],
   "source": []
  }
 ],
 "metadata": {
  "kernelspec": {
   "display_name": "Python 3",
   "language": "python",
   "name": "python3"
  },
  "language_info": {
   "codemirror_mode": {
    "name": "ipython",
    "version": 3
   },
   "file_extension": ".py",
   "mimetype": "text/x-python",
   "name": "python",
   "nbconvert_exporter": "python",
   "pygments_lexer": "ipython3",
   "version": "3.8.10"
  }
 },
 "nbformat": 4,
 "nbformat_minor": 5
}
