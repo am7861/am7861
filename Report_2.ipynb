{
 "cells": [
  {
   "cell_type": "code",
   "execution_count": null,
   "id": "ac965215",
   "metadata": {},
   "outputs": [],
   "source": [
    "from requests import HTTPError\n",
    "\n",
    "import cobra\n",
    "import pandas as pd\n",
    "import plotly.express as px\n",
    "import seaborn as sns\n",
    "\n",
    "from Bio.KEGG import REST\n",
    "from matplotlib import rcParams\n",
    "import matplotlib.pyplot as plt\n",
    "plt.style.use('ggplot')\n",
    "\n",
    "# Set default figure size\n",
    "rcParams[\"figure.figsize\"] = 10, 10"
   ]
  },
  {
   "cell_type": "markdown",
   "id": "9180359a",
   "metadata": {},
   "source": [
    "### Start of part 2 of report "
   ]
  },
  {
   "cell_type": "code",
   "execution_count": null,
   "id": "5e3c4b96",
   "metadata": {},
   "outputs": [],
   "source": [
    "#The above code is slow so saving it as a 'pickle' file for easy downstream analysis "
   ]
  },
  {
   "cell_type": "code",
   "execution_count": null,
   "id": "849b712f",
   "metadata": {},
   "outputs": [],
   "source": [
    "fluxes.to_pickle('fluxes_with_description_df.pkl')"
   ]
  },
  {
   "cell_type": "code",
   "execution_count": null,
   "id": "67a06112",
   "metadata": {},
   "outputs": [],
   "source": [
    "fluxes=pd.read_pickle('fluxes_with_description_df.pkl')"
   ]
  },
  {
   "cell_type": "code",
   "execution_count": null,
   "id": "bfe3b3d4",
   "metadata": {},
   "outputs": [],
   "source": [
    "fluxes =fluxes.set_index('Reaction')"
   ]
  },
  {
   "cell_type": "code",
   "execution_count": null,
   "id": "e885cde7",
   "metadata": {},
   "outputs": [],
   "source": [
    "#Setting the mouseover information to be the reaction definition."
   ]
  },
  {
   "cell_type": "code",
   "execution_count": null,
   "id": "595f838a",
   "metadata": {},
   "outputs": [],
   "source": [
    "fig = px.scatter(fluxes, x=\"wildtype\", y=\"perturbed\", color=\"state\", hover_data=[\"definition\", fluxes.index])\n",
    "fig.show()"
   ]
  },
  {
   "cell_type": "code",
   "execution_count": null,
   "id": "85ef07ec",
   "metadata": {},
   "outputs": [],
   "source": [
    "#over half the enteries have no KEGG ID"
   ]
  },
  {
   "cell_type": "code",
   "execution_count": null,
   "id": "2375ae08",
   "metadata": {},
   "outputs": [],
   "source": [
    "len(fluxes.loc[fluxes[\"definition\"]== \"no_kegg_id\"])"
   ]
  },
  {
   "cell_type": "code",
   "execution_count": null,
   "id": "87e9abc3",
   "metadata": {},
   "outputs": [],
   "source": [
    "# As 2946 reactions have no KEGG id, we want to get a fuller descriptions from the ICardio file - by merging it with the fluxes "
   ]
  },
  {
   "cell_type": "code",
   "execution_count": null,
   "id": "8e87e81b",
   "metadata": {},
   "outputs": [],
   "source": [
    "icardio_data = pd.read_excel(\"ncomms14250-s10, iHsa COBRA.xlsx\", sheet_name=1,engine=\"openpyxl\")\n",
    "icardio_data"
   ]
  },
  {
   "cell_type": "code",
   "execution_count": null,
   "id": "d457442b",
   "metadata": {},
   "outputs": [],
   "source": [
    "#From Icardio date frame, copying the corresponding subsystem information into the fluxes dataframe. This is done using the assign_subsystem fucntion"
   ]
  },
  {
   "cell_type": "code",
   "execution_count": null,
   "id": "38710542",
   "metadata": {},
   "outputs": [],
   "source": [
    "fluxes[\"subsystem\"] = \"\"  # create a new column to hold reaction suybsystem\n",
    "\n",
    "# Assign subsystem to each row in the dataframe\n",
    "def assign_subsystem(row):\n",
    "    \"\"\"Assign subsystem to a row (reaction)\"\"\"\n",
    "    match = icardio_data.loc[icardio_data[\"Abbreviation\"] == row.name]\n",
    "    if not len(match):\n",
    "        return \"no_subsystem\"\n",
    "    subsystem = match[\"Subsystem\"].item()\n",
    "    if subsystem != \"nan\":\n",
    "        return subsystem\n",
    "    return \"no_subsystem\"\n",
    "\n",
    "fluxes[\"subsystem\"] = fluxes.apply(assign_subsystem, axis=1)"
   ]
  },
  {
   "cell_type": "code",
   "execution_count": null,
   "id": "2e47c8e3",
   "metadata": {},
   "outputs": [],
   "source": [
    "#Interative scatterplot below will show the subsystem information on the data points "
   ]
  },
  {
   "cell_type": "code",
   "execution_count": null,
   "id": "f62992fe",
   "metadata": {},
   "outputs": [],
   "source": [
    "fig = px.scatter(fluxes, x=\"wildtype\", y=\"perturbed\", color=\"state\", hover_data=[\"definition\", fluxes.index, \"subsystem\"])\n",
    "fig.show()"
   ]
  },
  {
   "cell_type": "code",
   "execution_count": null,
   "id": "12614d94",
   "metadata": {},
   "outputs": [],
   "source": [
    "#This function shows the differences in fluxes between the wildtype and perturbed models. \n",
    "#The function'dif' below performs the subtraction and adds the result to a new column in the flux dataframe"
   ]
  },
  {
   "cell_type": "code",
   "execution_count": null,
   "id": "942cd440",
   "metadata": {},
   "outputs": [],
   "source": [
    "fluxes[\"difference\"]=\"\"\n",
    "#Assign subsystem to each row in the dataframe\n",
    "def diff(row):\n",
    "    return(int(row[\"wildtype\"])- int(row['perturbed']))\n",
    "\n",
    "fluxes[\"difference\"]= fluxes.apply(diff,axis=1)"
   ]
  },
  {
   "cell_type": "code",
   "execution_count": null,
   "id": "df30bdcd",
   "metadata": {},
   "outputs": [],
   "source": [
    "#Removing \"Reaction\" as a index"
   ]
  },
  {
   "cell_type": "code",
   "execution_count": null,
   "id": "83a92851",
   "metadata": {},
   "outputs": [],
   "source": [
    "fluxes= fluxes.reset_index(drop=False)\n",
    "fluxes"
   ]
  },
  {
   "cell_type": "code",
   "execution_count": null,
   "id": "8d28da25",
   "metadata": {},
   "outputs": [],
   "source": [
    "#This will prevent truncation on row data in the dataframe"
   ]
  },
  {
   "cell_type": "code",
   "execution_count": null,
   "id": "abf85219",
   "metadata": {},
   "outputs": [],
   "source": [
    "pd.options.display.max_rows = 4200"
   ]
  },
  {
   "cell_type": "code",
   "execution_count": null,
   "id": "a8b4a2d6",
   "metadata": {},
   "outputs": [],
   "source": [
    "#This code below will group all reactions by state and the subsystem they belong to and display a count "
   ]
  },
  {
   "cell_type": "code",
   "execution_count": null,
   "id": "0cf5519d",
   "metadata": {},
   "outputs": [],
   "source": [
    "state_and_sub_grouping= pd.DataFrame({'Qty_cnt':fluxes.groupby([\"state\",\"subsystem\"])[\"Reaction\"].count()}).reset_index()"
   ]
  },
  {
   "cell_type": "code",
   "execution_count": null,
   "id": "346390b1",
   "metadata": {
    "scrolled": false
   },
   "outputs": [],
   "source": [
    "state_and_sub_grouping"
   ]
  },
  {
   "cell_type": "code",
   "execution_count": null,
   "id": "4472a561",
   "metadata": {},
   "outputs": [],
   "source": [
    "#The function below will enable plotting of a bar graph  for each of the states and show the counts of the reactions in the subsystems "
   ]
  },
  {
   "cell_type": "code",
   "execution_count": null,
   "id": "3b07d62d",
   "metadata": {},
   "outputs": [],
   "source": [
    "def plot(pstate,phdr,pdf):\n",
    "    df= pdf.loc[pdf[\"state\"]==pstate]\n",
    "    \n",
    "    s = pd.Series(list(df['Qty_cnt']), index= list(df['subsystem']))\n",
    "    \n",
    "    plt.figure(figsize=(10,5))\n",
    "    #set descriptions:\n",
    "    plt.title(phdr)\n",
    "    plt.ylabel('Count of reactions in subsystem')\n",
    "    plt.xlabel('Subsystems')\n",
    "    \n",
    "    #Set tick colours:\n",
    "    ax= plt.gca()\n",
    "    ax.tick_params(axis='x', colors='black')\n",
    "    ax.tick_params(axis='y', colors='red')\n",
    "    \n",
    "    #Plot the data:\n",
    "    c=['green']\n",
    "    \n",
    "    s.plot(kind='bar',color=c)\n",
    "    \n",
    "    plt.show()"
   ]
  },
  {
   "cell_type": "code",
   "execution_count": null,
   "id": "f2a3625d",
   "metadata": {},
   "outputs": [],
   "source": [
    "#Bar graph of reactions that have been deactiavted "
   ]
  },
  {
   "cell_type": "code",
   "execution_count": null,
   "id": "6b505b03",
   "metadata": {},
   "outputs": [],
   "source": [
    "plot('deactivated','Count of Reactions in DEACTIVATED state',state_and_sub_grouping)"
   ]
  },
  {
   "cell_type": "code",
   "execution_count": null,
   "id": "12f1f19f",
   "metadata": {},
   "outputs": [],
   "source": [
    "#Bar graph of reactions that have been activated"
   ]
  },
  {
   "cell_type": "code",
   "execution_count": null,
   "id": "325f3f74",
   "metadata": {},
   "outputs": [],
   "source": [
    "plot('activated','Count of reactions in ACTIVATED state',state_and_sub_grouping)"
   ]
  },
  {
   "cell_type": "code",
   "execution_count": null,
   "id": "129b1434",
   "metadata": {},
   "outputs": [],
   "source": [
    "#Bar graph of reactions that have decreased "
   ]
  },
  {
   "cell_type": "code",
   "execution_count": null,
   "id": "dc7f95f5",
   "metadata": {},
   "outputs": [],
   "source": [
    "plot('decreased flux','Count of reactions in DECREASED state',state_and_sub_grouping)"
   ]
  },
  {
   "cell_type": "code",
   "execution_count": null,
   "id": "0aa34079",
   "metadata": {},
   "outputs": [],
   "source": [
    "#Bar graph of reactions that have increased"
   ]
  },
  {
   "cell_type": "code",
   "execution_count": null,
   "id": "7827a6e5",
   "metadata": {},
   "outputs": [],
   "source": [
    "plot('increased flux','Count of reactions in INCREASED state',state_and_sub_grouping)"
   ]
  },
  {
   "cell_type": "code",
   "execution_count": null,
   "id": "e4a0c48b",
   "metadata": {},
   "outputs": [],
   "source": [
    "plot('unchanged','Count of reactions in UNCHANGED state',state_and_sub_grouping)"
   ]
  },
  {
   "cell_type": "code",
   "execution_count": null,
   "id": "15f3f472",
   "metadata": {},
   "outputs": [],
   "source": [
    "#As there are a large number of reactions with no KEGG ID, merging the flux dataframe with Icardio gives more richer information on the reactions"
   ]
  },
  {
   "cell_type": "code",
   "execution_count": null,
   "id": "2aa56caf",
   "metadata": {},
   "outputs": [],
   "source": [
    "flux_merged_with_icardio= fluxes.merge (icardio_data, left_index=True, right_on= \"Abbreviation\")\n",
    "flux_merged_with_icardio"
   ]
  },
  {
   "cell_type": "code",
   "execution_count": null,
   "id": "57f9829c",
   "metadata": {},
   "outputs": [],
   "source": [
    "#set abbreviation as index on the new merged dataframe "
   ]
  },
  {
   "cell_type": "code",
   "execution_count": null,
   "id": "57d79154",
   "metadata": {},
   "outputs": [],
   "source": [
    "flux_merged_with_icardio= flux_merged_with_icardio.set_index('Abbreviation')\n",
    "flux_merged_with_icardio"
   ]
  },
  {
   "cell_type": "code",
   "execution_count": null,
   "id": "66c9f603",
   "metadata": {},
   "outputs": [],
   "source": [
    "#Showing all 4200 reactions along with their corresponding subsystems and state"
   ]
  },
  {
   "cell_type": "code",
   "execution_count": null,
   "id": "c5a62578",
   "metadata": {},
   "outputs": [],
   "source": [
    "all_state=pd.DataFrame({'Difference=wildtype- perturbed' : flux_merged_with_icardio.groupby([\"state\",\"subsystem\",\"Description\"])['difference'].sum()})\n",
    "all_state"
   ]
  },
  {
   "cell_type": "code",
   "execution_count": null,
   "id": "ba9d5118",
   "metadata": {},
   "outputs": [],
   "source": [
    "#Converting table above into pickle file so it can be opened in excel for further understanding"
   ]
  },
  {
   "cell_type": "code",
   "execution_count": null,
   "id": "ab18d083",
   "metadata": {},
   "outputs": [],
   "source": [
    "all_state.to_csv('allstate_with_Icardio_description_df.csv')"
   ]
  },
  {
   "cell_type": "code",
   "execution_count": null,
   "id": "960b5de6",
   "metadata": {},
   "outputs": [],
   "source": [
    "#Printing all transport reaction descriptions that have increased "
   ]
  },
  {
   "cell_type": "code",
   "execution_count": null,
   "id": "96065354",
   "metadata": {},
   "outputs": [],
   "source": [
    "inc_transport = flux_merged_with_icardio.loc[(flux_merged_with_icardio[\"subsystem\"] == \"Transport\") & (flux_merged_with_icardio[\"state\"] == \"increased flux\")]\n",
    "inc_transport = pd.DataFrame(inc_transport.groupby( [\"state\", \"subsystem\", \"Description\", \"wildtype\", \"perturbed\"])['difference'].sum())\n",
    "inc_transport"
   ]
  },
  {
   "cell_type": "markdown",
   "id": "0dfdacc3",
   "metadata": {},
   "source": [
    "We can see from the results that transport reactions have the most increased flux from shutting off glucose import followed by central carbon metabolism.\n",
    "The heart is able to switch energy sources flexibly as dictated by substrate availability therefore the low availability of glucose results in the increase import of fatty acids  into cardio myocytes as fuel molecules. This is critical when blood glucose is low.\n",
    "\n",
    "L-carnitine transport is also increased once glucose has been shut off. This is a chemical that is essential for the transfer of fatty acids across he mitochondria where they can be oxidized to produce energy."
   ]
  },
  {
   "cell_type": "code",
   "execution_count": null,
   "id": "048b9138",
   "metadata": {},
   "outputs": [],
   "source": [
    "#Printing all protein metabolism reaction descriptions that have decreased "
   ]
  },
  {
   "cell_type": "code",
   "execution_count": null,
   "id": "822473ac",
   "metadata": {},
   "outputs": [],
   "source": [
    "dec_protein = flux_merged_with_icardio.loc[(flux_merged_with_icardio[\"subsystem\"] == \"Protein metabolism\") & (flux_merged_with_icardio[\"state\"] == \"decreased flux\")]\n",
    "dec_protein = pd.DataFrame(dec_protein.groupby( [\"state\", \"subsystem\", \"Description\", \"wildtype\", \"perturbed\"])['difference'].sum())\n",
    "dec_protein"
   ]
  },
  {
   "cell_type": "markdown",
   "id": "beeeec41",
   "metadata": {},
   "source": [
    "From these results we can see that amino acid ligases have decreases metabolism. These ligases catalyse the attachment of an amino acid to tRNA in order to make protein, this is an ATP- dependant process.\n",
    "\n",
    "In a postabsorptive state, insulin is secreted and this stimulates the synthesis of many proteins in a variety of ways for example it stimulates glycogen synthesis and accelerates glycolysis in the liver which then increases fatty acid synthesis. Insulin also increases protein and amino acid metabolism. \n",
    "\n",
    "However in this case where there is no glucose available, the cardiomyocytes may be preserving energy and wont synthesise proteins. Under these extreme conditions when glucose levels are low such as in Kwashiorkor which is a severe form on malnutrition that tends to occur in developing countries, cells want to switch off all biosynthetic pathways in order to prevent wasting energy making proteins and instead use the amino acids to make energy. (Berg et al,2002)"
   ]
  },
  {
   "cell_type": "code",
   "execution_count": null,
   "id": "5c1f3acc",
   "metadata": {},
   "outputs": [],
   "source": [
    "#Printing all transport reaction descriptions that have been deactivated "
   ]
  },
  {
   "cell_type": "code",
   "execution_count": null,
   "id": "f535dea4",
   "metadata": {},
   "outputs": [],
   "source": [
    "deactivated_transport = flux_merged_with_icardio.loc[(flux_merged_with_icardio[\"subsystem\"] == \"Transport\") & (flux_merged_with_icardio[\"state\"] == \"deactivated\")]\n",
    "deactivated_transport = pd.DataFrame(deactivated_transport.groupby( [\"state\", \"subsystem\", \"Description\", \"wildtype\", \"perturbed\"])['difference'].sum())\n",
    "deactivated_transport"
   ]
  },
  {
   "cell_type": "markdown",
   "id": "fb1a2b4b",
   "metadata": {},
   "source": [
    "Deactivating malate / Pi antiport and Pi / succinate antiport may be due to try and keep the carbons in the cells a source of energy "
   ]
  },
  {
   "cell_type": "code",
   "execution_count": null,
   "id": "da2c7570",
   "metadata": {},
   "outputs": [],
   "source": [
    "#Printing all transport reaction descriptions that have been activated "
   ]
  },
  {
   "cell_type": "code",
   "execution_count": null,
   "id": "e9b8b78f",
   "metadata": {},
   "outputs": [],
   "source": [
    "activated_transport = flux_merged_with_icardio.loc[(flux_merged_with_icardio[\"subsystem\"] == \"Transport\") & (flux_merged_with_icardio[\"state\"] == \"activated\")]\n",
    "activated_transport = pd.DataFrame(activated_transport.groupby( [\"state\", \"subsystem\", \"Description\", \"wildtype\", \"perturbed\"])['difference'].sum())\n",
    "activated_transport"
   ]
  },
  {
   "cell_type": "markdown",
   "id": "1a65558e",
   "metadata": {},
   "source": [
    "Transport reactions again are being activated the most after setting off glucose import, many of these transport reactions are amino acid transport. Amino acids play a central role in cardiac metabolism, the heart just like for fatty acids can use amino acids for energy. More amino acids are transported into the cardiomyocytes in order to make up for the missing glucose.\n",
    "Fumarate / malate antiport reaction may be trying to scavage as many of the intermiades in the TCA cycle from the cytosol as it can so that it can get that into the mitochondria for ATP"
   ]
  },
  {
   "cell_type": "markdown",
   "id": "25337a69",
   "metadata": {},
   "source": [
    "#### Constraint change "
   ]
  },
  {
   "cell_type": "markdown",
   "id": "bfa26e0b",
   "metadata": {},
   "source": [
    "Now changing constraints again, this time allowing a small smount of glucose to enter the cells by setting constraint to 10 and -10 and identifying any differences."
   ]
  },
  {
   "cell_type": "code",
   "execution_count": null,
   "id": "334e8ac3",
   "metadata": {},
   "outputs": [],
   "source": [
    "#The graph was screenshotted from a seperate notebook and pasted onto the report word document."
   ]
  },
  {
   "cell_type": "markdown",
   "id": "6b4028e9",
   "metadata": {},
   "source": [
    "## Conclusion"
   ]
  },
  {
   "cell_type": "markdown",
   "id": "7c0c2f93",
   "metadata": {},
   "source": [
    "Computational models of biological systems such as ICardio have proven their worth in highlighting complications of conditions such as a Myocardial infarction. Myocardial infarction causes a sudden blockage of blood into the heart and results in the heart not getting the nutrients that it needs to function. When this occurs, and the heart loses its primary source of energy, glucose, it needs to find other substrates for energy. Using a mathematical model of the heart, ICardio, we have found there is an increase of transport of fatty acids, amino acids, and pyruvate into the cell to counteract the missing glucose. Also, the decrease and deactivation of reactions involving protein synthesis prevents any energy being wasted. Using models such as this to represent other heart abnormalities can allow for further understanding of these conditions and therefore better treatment.\n"
   ]
  },
  {
   "cell_type": "code",
   "execution_count": null,
   "id": "46fbff89",
   "metadata": {},
   "outputs": [],
   "source": []
  }
 ],
 "metadata": {
  "kernelspec": {
   "display_name": "Python 3",
   "language": "python",
   "name": "python3"
  },
  "language_info": {
   "codemirror_mode": {
    "name": "ipython",
    "version": 3
   },
   "file_extension": ".py",
   "mimetype": "text/x-python",
   "name": "python",
   "nbconvert_exporter": "python",
   "pygments_lexer": "ipython3",
   "version": "3.8.10"
  }
 },
 "nbformat": 4,
 "nbformat_minor": 5
}
